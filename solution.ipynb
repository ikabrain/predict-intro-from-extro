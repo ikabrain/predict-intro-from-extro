{
 "cells": [
  {
   "cell_type": "markdown",
   "id": "cc1fa682",
   "metadata": {},
   "source": [
    "# [Predict Introverts from Extroverts](https://www.kaggle.com/competitions/playground-series-s5e7/)\n",
    "---"
   ]
  },
  {
   "cell_type": "code",
   "execution_count": null,
   "id": "df2ba007",
   "metadata": {},
   "outputs": [
    {
     "name": "stdout",
     "output_type": "stream",
     "text": [
      "Downloading playground-series-s5e7.zip to /home/ikansh/CS/predict-intro-from-extro\n",
      "  0%|                                                | 0.00/191k [00:00<?, ?B/s]\n",
      "100%|█████████████████████████████████████████| 191k/191k [00:00<00:00, 356MB/s]\n",
      "Archive:  playground-series-s5e7.zip\n",
      "  inflating: sample_submission.csv   \n",
      "  inflating: test.csv                \n",
      "  inflating: train.csv               \n"
     ]
    }
   ],
   "source": [
    "# !kaggle competitions download -c playground-series-s5e7\n",
    "# !unzip playground-series-s5e7.zip\n",
    "# !rm playground-series-s5e7.zip"
   ]
  },
  {
   "cell_type": "code",
   "execution_count": null,
   "id": "c7364c0d",
   "metadata": {},
   "outputs": [],
   "source": []
  }
 ],
 "metadata": {
  "kernelspec": {
   "display_name": "Python 3",
   "language": "python",
   "name": "python3"
  },
  "language_info": {
   "codemirror_mode": {
    "name": "ipython",
    "version": 3
   },
   "file_extension": ".py",
   "mimetype": "text/x-python",
   "name": "python",
   "nbconvert_exporter": "python",
   "pygments_lexer": "ipython3",
   "version": "3.13.1"
  }
 },
 "nbformat": 4,
 "nbformat_minor": 5
}
