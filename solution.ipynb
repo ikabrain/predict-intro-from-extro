{
 "cells": [
  {
   "cell_type": "markdown",
   "id": "cc1fa682",
   "metadata": {},
   "source": [
    "# [Predict Introverts from Extroverts](https://www.kaggle.com/competitions/playground-series-s5e7/)\n",
    "---"
   ]
  },
  {
   "cell_type": "code",
   "execution_count": null,
   "id": "df2ba007",
   "metadata": {},
   "outputs": [
    {
     "name": "stdout",
     "output_type": "stream",
     "text": [
      "Downloading playground-series-s5e7.zip to /home/ikansh/CS/predict-intro-from-extro\n",
      "  0%|                                                | 0.00/191k [00:00<?, ?B/s]\n",
      "100%|█████████████████████████████████████████| 191k/191k [00:00<00:00, 356MB/s]\n",
      "Archive:  playground-series-s5e7.zip\n",
      "  inflating: sample_submission.csv   \n",
      "  inflating: test.csv                \n",
      "  inflating: train.csv               \n"
     ]
    }
   ],
   "source": [
    "# !kaggle competitions download -c playground-series-s5e7\n",
    "# !unzip playground-series-s5e7.zip\n",
    "# !rm playground-series-s5e7.zip"
   ]
  },
  {
   "cell_type": "code",
   "execution_count": 5,
   "id": "c7364c0d",
   "metadata": {},
   "outputs": [],
   "source": [
    "import numpy as np\n",
    "import pandas as pd\n",
    "import matplotlib.pyplot as plt\n",
    "import seaborn as sns\n",
    "\n",
    "%matplotlib inline"
   ]
  },
  {
   "cell_type": "code",
   "execution_count": null,
   "id": "a10795cb",
   "metadata": {},
   "outputs": [
    {
     "data": {
      "application/vnd.microsoft.datawrangler.viewer.v0+json": {
       "columns": [
        {
         "name": "id",
         "rawType": "int64",
         "type": "integer"
        },
        {
         "name": "Time_spent_Alone",
         "rawType": "float64",
         "type": "float"
        },
        {
         "name": "Stage_fear",
         "rawType": "object",
         "type": "string"
        },
        {
         "name": "Social_event_attendance",
         "rawType": "float64",
         "type": "float"
        },
        {
         "name": "Going_outside",
         "rawType": "float64",
         "type": "float"
        },
        {
         "name": "Drained_after_socializing",
         "rawType": "object",
         "type": "unknown"
        },
        {
         "name": "Friends_circle_size",
         "rawType": "float64",
         "type": "float"
        },
        {
         "name": "Post_frequency",
         "rawType": "float64",
         "type": "float"
        },
        {
         "name": "Personality",
         "rawType": "object",
         "type": "string"
        }
       ],
       "ref": "0321521f-4351-40cc-8e5b-3a702dd9bbfb",
       "rows": [
        [
         "0",
         "0.0",
         "No",
         "6.0",
         "4.0",
         "No",
         "15.0",
         "5.0",
         "Extrovert"
        ],
        [
         "1",
         "1.0",
         "No",
         "7.0",
         "3.0",
         "No",
         "10.0",
         "8.0",
         "Extrovert"
        ],
        [
         "2",
         "6.0",
         "Yes",
         "1.0",
         "0.0",
         null,
         "3.0",
         "0.0",
         "Introvert"
        ],
        [
         "3",
         "3.0",
         "No",
         "7.0",
         "3.0",
         "No",
         "11.0",
         "5.0",
         "Extrovert"
        ],
        [
         "4",
         "1.0",
         "No",
         "4.0",
         "4.0",
         "No",
         "13.0",
         null,
         "Extrovert"
        ]
       ],
       "shape": {
        "columns": 8,
        "rows": 5
       }
      },
      "text/html": [
       "<div>\n",
       "<style scoped>\n",
       "    .dataframe tbody tr th:only-of-type {\n",
       "        vertical-align: middle;\n",
       "    }\n",
       "\n",
       "    .dataframe tbody tr th {\n",
       "        vertical-align: top;\n",
       "    }\n",
       "\n",
       "    .dataframe thead th {\n",
       "        text-align: right;\n",
       "    }\n",
       "</style>\n",
       "<table border=\"1\" class=\"dataframe\">\n",
       "  <thead>\n",
       "    <tr style=\"text-align: right;\">\n",
       "      <th></th>\n",
       "      <th>Time_spent_Alone</th>\n",
       "      <th>Stage_fear</th>\n",
       "      <th>Social_event_attendance</th>\n",
       "      <th>Going_outside</th>\n",
       "      <th>Drained_after_socializing</th>\n",
       "      <th>Friends_circle_size</th>\n",
       "      <th>Post_frequency</th>\n",
       "      <th>Personality</th>\n",
       "    </tr>\n",
       "    <tr>\n",
       "      <th>id</th>\n",
       "      <th></th>\n",
       "      <th></th>\n",
       "      <th></th>\n",
       "      <th></th>\n",
       "      <th></th>\n",
       "      <th></th>\n",
       "      <th></th>\n",
       "      <th></th>\n",
       "    </tr>\n",
       "  </thead>\n",
       "  <tbody>\n",
       "    <tr>\n",
       "      <th>0</th>\n",
       "      <td>0.0</td>\n",
       "      <td>No</td>\n",
       "      <td>6.0</td>\n",
       "      <td>4.0</td>\n",
       "      <td>No</td>\n",
       "      <td>15.0</td>\n",
       "      <td>5.0</td>\n",
       "      <td>Extrovert</td>\n",
       "    </tr>\n",
       "    <tr>\n",
       "      <th>1</th>\n",
       "      <td>1.0</td>\n",
       "      <td>No</td>\n",
       "      <td>7.0</td>\n",
       "      <td>3.0</td>\n",
       "      <td>No</td>\n",
       "      <td>10.0</td>\n",
       "      <td>8.0</td>\n",
       "      <td>Extrovert</td>\n",
       "    </tr>\n",
       "    <tr>\n",
       "      <th>2</th>\n",
       "      <td>6.0</td>\n",
       "      <td>Yes</td>\n",
       "      <td>1.0</td>\n",
       "      <td>0.0</td>\n",
       "      <td>NaN</td>\n",
       "      <td>3.0</td>\n",
       "      <td>0.0</td>\n",
       "      <td>Introvert</td>\n",
       "    </tr>\n",
       "    <tr>\n",
       "      <th>3</th>\n",
       "      <td>3.0</td>\n",
       "      <td>No</td>\n",
       "      <td>7.0</td>\n",
       "      <td>3.0</td>\n",
       "      <td>No</td>\n",
       "      <td>11.0</td>\n",
       "      <td>5.0</td>\n",
       "      <td>Extrovert</td>\n",
       "    </tr>\n",
       "    <tr>\n",
       "      <th>4</th>\n",
       "      <td>1.0</td>\n",
       "      <td>No</td>\n",
       "      <td>4.0</td>\n",
       "      <td>4.0</td>\n",
       "      <td>No</td>\n",
       "      <td>13.0</td>\n",
       "      <td>NaN</td>\n",
       "      <td>Extrovert</td>\n",
       "    </tr>\n",
       "  </tbody>\n",
       "</table>\n",
       "</div>"
      ],
      "text/plain": [
       "    Time_spent_Alone Stage_fear  Social_event_attendance  Going_outside  \\\n",
       "id                                                                        \n",
       "0                0.0         No                      6.0            4.0   \n",
       "1                1.0         No                      7.0            3.0   \n",
       "2                6.0        Yes                      1.0            0.0   \n",
       "3                3.0         No                      7.0            3.0   \n",
       "4                1.0         No                      4.0            4.0   \n",
       "\n",
       "   Drained_after_socializing  Friends_circle_size  Post_frequency Personality  \n",
       "id                                                                             \n",
       "0                         No                 15.0             5.0   Extrovert  \n",
       "1                         No                 10.0             8.0   Extrovert  \n",
       "2                        NaN                  3.0             0.0   Introvert  \n",
       "3                         No                 11.0             5.0   Extrovert  \n",
       "4                         No                 13.0             NaN   Extrovert  "
      ]
     },
     "execution_count": 7,
     "metadata": {},
     "output_type": "execute_result"
    }
   ],
   "source": [
    "df_train = pd.read_csv(\"train.csv\", index_col=\"id\").head()"
   ]
  },
  {
   "cell_type": "code",
   "execution_count": null,
   "id": "bcccc5f3",
   "metadata": {},
   "outputs": [],
   "source": []
  }
 ],
 "metadata": {
  "kernelspec": {
   "display_name": "Python 3",
   "language": "python",
   "name": "python3"
  },
  "language_info": {
   "codemirror_mode": {
    "name": "ipython",
    "version": 3
   },
   "file_extension": ".py",
   "mimetype": "text/x-python",
   "name": "python",
   "nbconvert_exporter": "python",
   "pygments_lexer": "ipython3",
   "version": "3.13.1"
  }
 },
 "nbformat": 4,
 "nbformat_minor": 5
}
